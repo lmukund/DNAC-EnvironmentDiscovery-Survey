{
 "cells": [
  {
   "cell_type": "code",
   "execution_count": 5,
   "metadata": {
    "scrolled": true
   },
   "outputs": [
    {
     "name": "stdout",
     "output_type": "stream",
     "text": [
      "This program is designed to create Environmental Discovery Reports for all \n",
      "customers who have taken the survey\n",
      "The output will be files named as SurveyReport_<customer name>.pdf for each customer\n",
      "Please enter the full path and name of survey results xls file:\n",
      "lkj\n",
      "The file does not exist. Easiest way is to copy the xlsx file into the same directory as the exe\n"
     ]
    }
   ],
   "source": [
    "import pandas as pd\n",
    "import re\n",
    "import six\n",
    "import os.path,sys\n",
    "from pathlib import Path\n",
    "\n",
    "\n",
    "print(\"This program is designed to create Environmental Discovery Reports for all \\ncustomers who have taken the survey\")\n",
    "print(\"The output will be files named as SurveyReport_<customer name>.pdf for each customer\")\n",
    "file = input(\"Please enter the full path and name of survey results xls file:\\n\")\n",
    "\n",
    "#df = pd.read_excel('Common DNAC Land and Ad opt - Environment Discovery - Responses -  2020-7-8 13-48 26996.xlsx')\n",
    "\n",
    "my_file = Path(file)  \n",
    "if os.path.isfile(my_file) == False:\n",
    "    print(\"The file does not exist. Easiest way is to copy the xlsx file into the same directory as the exe\")\n",
    "    quit()\n",
    "else:\n",
    "    df = pd.read_excel(file)\n"
   ]
  },
  {
   "cell_type": "code",
   "execution_count": 3,
   "metadata": {},
   "outputs": [
    {
     "name": "stdout",
     "output_type": "stream",
     "text": [
      "lkj\n",
      "org1\n",
      "company\n"
     ]
    }
   ],
   "source": [
    "from reportlab.lib.styles import getSampleStyleSheet\n",
    "from reportlab.platypus import *\n",
    "from reportlab.lib import colors\n",
    "from reportlab.lib.pagesizes import letter, landscape, inch, A4\n",
    "\n",
    "a = df.columns\n",
    "for i in range(0,len(df.index)): \n",
    "    print(df[a[5]][i])"
   ]
  },
  {
   "cell_type": "code",
   "execution_count": 4,
   "metadata": {
    "scrolled": true
   },
   "outputs": [
    {
     "name": "stdout",
     "output_type": "stream",
     "text": [
      "Processing done.. Please look for files named SurveyReport_<customer name>.pdf in the same directory\n"
     ]
    }
   ],
   "source": [
    "def insert_newline(ss):\n",
    "    if not isinstance(ss,six.string_types):\n",
    "        #print(\"Not string: {}\".format(ss))\n",
    "        return(ss)\n",
    "    if len(ss) > 180:\n",
    "        #print(ss)\n",
    "        return(ss[:90] + \"\\n\" + ss[90:180] + \"\\n\" + ss[180:])\n",
    "    elif len(ss) > 90:\n",
    "        return(ss[:90] + \"\\n\" + ss[90:])\n",
    "    else:\n",
    "        return(ss)\n",
    "\n",
    "a = df.columns\n",
    "\n",
    "\n",
    "for i in range(0,len(df.index)): \n",
    "    result = pd.DataFrame([['','']], columns = ['Heading','Details'])             \n",
    "\n",
    "    for a in df: \n",
    "        column_name = a\n",
    "        x = re.match('.*Topic.*',a)\n",
    "\n",
    "        if x:\n",
    "            s = re.search(r'.*?\\[(.*)].*', a)\n",
    "            ques = s.group(1)\n",
    "            ques=ques.replace(';',':')\n",
    "\n",
    "            #print (ques)\n",
    "            lis = ques.split(\":\")\n",
    "            #print(\"{}*****{}**** {} = {}\".format(lis[5],lis[3], lis[1],df[column_name][0]))\n",
    "            result = result.append({'Heading':'Topic','Details':insert_newline(lis[5])},True)\n",
    "            if (len(lis[3]) != 1):\n",
    "                result = result.append({'Heading':'Category','Details':lis[3]},True)\n",
    "            result = result.append({'Heading':'Question','Details':insert_newline(lis[1])},True)\n",
    "            result = result.append({'Heading':'Answer','Details':insert_newline(df[column_name][i])},True)\n",
    "            result = result.append({'Heading':'','Details':''},True)\n",
    "        else:\n",
    "            x = re.match('^.Q.*_',a)\n",
    "            if x:\n",
    "                b = a\n",
    "                lis = b.split(\".\",1)\n",
    "                result = result.append({'Heading':'Question','Details':insert_newline(lis[1])},True)\n",
    "                result = result.append({'Heading':'Answer','Details':insert_newline(df[column_name][i])},True)\n",
    "                result = result.append({'Heading':'','Details':''},True)\n",
    "\n",
    "\n",
    "\n",
    "\n",
    "    \n",
    "    elements = []\n",
    "    styles = getSampleStyleSheet()\n",
    "    doc = SimpleDocTemplate(\"SurveyReport_{}_{}.pdf\".format(i,df[df.columns[5]][i]), id='landscape', pagesize=landscape(letter), rightMargin=100,leftMargin=100, topMargin=30,bottomMargin=18)\n",
    "    elements.append(Paragraph(\"Survey Report\", styles['Title']))\n",
    "    elements.append(Paragraph(\"Organization Name - {}\".format(df[df.columns[5]][i]), styles['Title']))\n",
    "\n",
    "    lista = [result.columns[:,].values.tolist()] + result.values.tolist()\n",
    "\n",
    "    t=Table(lista, colWidths=[1*inch,7*inch])\n",
    "    t.setStyle(TableStyle([('ALIGN',(1,1),(-2,-2),'RIGHT'),\n",
    "                            ('TEXTCOLOR',(1,1),(-2,-2),colors.red),\n",
    "                            ('VALIGN',(0,0),(0,-1),'TOP'),\n",
    "                            ('TEXTCOLOR',(0,0),(0,-1),colors.blue),\n",
    "                            ('ALIGN',(0,-1),(-1,-1),'CENTER'),\n",
    "                            ('VALIGN',(0,-1),(-1,-1),'MIDDLE'),\n",
    "                            ('TEXTCOLOR',(0,-1),(-1,-1),colors.green),\n",
    "                            ('INNERGRID', (0,0), (-1,-1), 0.25, colors.black),\n",
    "                            ('BOX', (0,0), (-1,-1), 0.25, colors.black),\n",
    "                            ]))\n",
    "\n",
    "                       \n",
    "    elements.append(t)\n",
    "    doc.build(elements)\n",
    "\n",
    "print(\"Processing done.. Please look for files named SurveyReport_<customer name>.pdf in the same directory\")"
   ]
  },
  {
   "cell_type": "code",
   "execution_count": null,
   "metadata": {},
   "outputs": [],
   "source": []
  },
  {
   "cell_type": "code",
   "execution_count": null,
   "metadata": {},
   "outputs": [],
   "source": []
  }
 ],
 "metadata": {
  "kernelspec": {
   "display_name": "Python 3",
   "language": "python",
   "name": "python3"
  },
  "language_info": {
   "codemirror_mode": {
    "name": "ipython",
    "version": 3
   },
   "file_extension": ".py",
   "mimetype": "text/x-python",
   "name": "python",
   "nbconvert_exporter": "python",
   "pygments_lexer": "ipython3",
   "version": "3.7.4"
  }
 },
 "nbformat": 4,
 "nbformat_minor": 4
}
